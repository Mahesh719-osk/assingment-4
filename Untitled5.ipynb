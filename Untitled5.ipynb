{
 "cells": [
  {
   "cell_type": "code",
   "execution_count": null,
   "id": "5f20b01b-04cf-462a-aa10-407cc08ddbde",
   "metadata": {},
   "outputs": [],
   "source": [
    "#Q1. What are the five key concepts of Object-Oriented Programming (OOP)?\n",
    "\n",
    "\n",
    "# Class: A blueprint or template for creating objects. It defines the attributes (data) and methods (functions) that the objects created from the class will have.\n",
    "\n",
    "# Object: An instance of a class. Objects have states (attributes) and behaviors (methods), and they represent real-world entities.\n",
    "\n",
    "# Encapsulation: The concept of bundling the data (attributes) and methods (functions) that operate on the data into a single unit, typically a class. Encapsulation also includes restricting direct access to some of an object's components, which is often done using access modifiers like private, public, or protected.\n",
    "\n",
    "# Inheritance: A mechanism where a new class (called a subclass or derived class) inherits the attributes and methods of an existing class (called a superclass or base class). This promotes code reuse and a hierarchical relationship between classes.\n",
    "\n",
    "# Polymorphism: The ability of different objects to respond to the same method call in different ways. It can be achieved through method overriding (where a subclass provides a specific implementation of a method that is already defined in its superclass) and method overloading (where multiple methods with the same name exist but differ in parameters)."
   ]
  },
  {
   "cell_type": "code",
   "execution_count": 3,
   "id": "ab0231ec-c35c-4f8b-9149-b9f754b0775e",
   "metadata": {},
   "outputs": [
    {
     "name": "stdout",
     "output_type": "stream",
     "text": [
      "Car Information: 2020 Toyota Camry\n"
     ]
    }
   ],
   "source": [
    "# Q2. Write a Python class for a `Car` with attributes for `make`, `model`, and `year`. Include a method to display the car's information.\n",
    "\n",
    "class Car:\n",
    "    def __init__(self, make, model, year):\n",
    "        self.make = make\n",
    "        self.model = model\n",
    "        self.year = year\n",
    "    \n",
    "    def display_info(self):\n",
    "        print(f\"Car Information: {self.year} {self.make} {self.model}\")\n",
    "\n",
    "\n",
    "my_car = Car(\"Toyota\", \"Camry\", 2020)\n",
    "my_car.display_info()\n"
   ]
  },
  {
   "cell_type": "code",
   "execution_count": 5,
   "id": "523cb64e-d601-486c-86ab-b4cf0a76b80e",
   "metadata": {},
   "outputs": [
    {
     "name": "stdout",
     "output_type": "stream",
     "text": [
      "Car Information: 2020 Toyota Camry\n"
     ]
    }
   ],
   "source": [
    "# Q3. Explain the difference between instance methods and class methods. Provide an example of each.\n",
    "\n",
    "# Difference Between Instance Methods and Class Methods:\n",
    "# Instance Methods:\n",
    "\n",
    "# Definition: Instance methods are functions defined inside a class that operate on the attributes of an instance (object) of the class. They can access and modify the instance's attributes.\n",
    "# Access: They take self as their first parameter, which represents the instance of the class.\n",
    "# Use case: Use instance methods when you need to perform operations that require the specific state (data) of an instance.\n",
    "# Example :\n",
    "class Car:\n",
    "    def __init__(self, make, model, year):\n",
    "        self.make = make\n",
    "        self.model = model\n",
    "        self.year = year\n",
    "    \n",
    "    def display_info(self): \n",
    "        print(f\"Car Information: {self.year} {self.make} {self.model}\")\n",
    "\n",
    "\n",
    "my_car = Car(\"Toyota\", \"Camry\", 2020)\n",
    "my_car.display_info()  \n"
   ]
  },
  {
   "cell_type": "code",
   "execution_count": 7,
   "id": "0bbda108-80b2-43f3-8c1d-f00984a01fbb",
   "metadata": {},
   "outputs": [
    {
     "name": "stdout",
     "output_type": "stream",
     "text": [
      "2\n"
     ]
    }
   ],
   "source": [
    "# Class Methods:\n",
    "\n",
    "# Definition: Class methods are methods that are bound to the class itself, not an instance. They can operate on the class as a whole and not on specific instances.\n",
    "# Access: They take cls as their first parameter, which represents the class itself, and are marked with the @classmethod decorator.\n",
    "# Use case: Use class methods when you need to perform operations related to the class as a whole, such as creating factory methods or maintaining class-level state\n",
    "# Example :\n",
    "class Car:\n",
    "    car_count = 0 \n",
    "    \n",
    "    def __init__(self, make, model, year):\n",
    "        self.make = make\n",
    "        self.model = model\n",
    "        self.year = year\n",
    "        Car.car_count += 1\n",
    "    \n",
    "    @classmethod\n",
    "    def get_car_count(cls):  \n",
    "        return cls.car_count\n",
    "car1 = Car(\"Toyota\", \"Camry\", 2020)\n",
    "car2 = Car(\"Honda\", \"Civic\", 2019)\n",
    "print(Car.get_car_count())  \n",
    "\n"
   ]
  },
  {
   "cell_type": "code",
   "execution_count": 11,
   "id": "c0723601-2707-4e18-8ec1-4000a31879f5",
   "metadata": {},
   "outputs": [
    {
     "name": "stdout",
     "output_type": "stream",
     "text": [
      "5\n",
      "8\n",
      "10\n"
     ]
    }
   ],
   "source": [
    "# Q4. How does Python implement method overloading? Give an example\n",
    "\n",
    "\n",
    "# In Python, when you define multiple methods with the same name, the last defined method overrides the previous ones.\n",
    "# Instead of traditional overloading, Python achieves similar functionality through:\n",
    "\n",
    "# 1.Default arguments\n",
    "# 2.Variable-length arguments (*args, **kwargs)\n",
    "# example using default arguments\n",
    "class Calculator:\n",
    "    def add(self, a, b=0, c=0):\n",
    "        return a + b + c\n",
    "calc = Calculator()\n",
    "print(calc.add(5))         \n",
    "print(calc.add(5, 3))     \n",
    "print(calc.add(5, 3, 2))  \n"
   ]
  },
  {
   "cell_type": "code",
   "execution_count": null,
   "id": "a2e5e4d8-c8fa-4495-9604-0c6bd416e0ce",
   "metadata": {},
   "outputs": [],
   "source": [
    "# Q5. What are the three types of access modifiers in Python? How are they denoted?\n",
    "\n",
    "# three types of access modifiers:\n",
    "\n",
    "#1. Public: No leading underscores (make). Accessible from anywhere.\n",
    "#2. Protected: Single leading underscore (_make). Intended for use within the class and its subclasses.\n",
    "#3. Private: Double leading underscores (__make). Not intended to be accessed from outside the class but can be accessed through name mangling if necessary.\n",
    "\n",
    "\n",
    "\n",
    "\n",
    "\n"
   ]
  },
  {
   "cell_type": "code",
   "execution_count": 23,
   "id": "377af894-dc48-40b2-9f91-d805e254f6f6",
   "metadata": {},
   "outputs": [
    {
     "name": "stdout",
     "output_type": "stream",
     "text": [
      "Father speaks\n",
      "Mother sings\n",
      "Child plays\n"
     ]
    }
   ],
   "source": [
    "# Q6. Describe the five types of inheritance in Python. Provide a simple example of multiple inheritance\n",
    "\n",
    "# Five Types of Inheritance in Python:\n",
    "# 1.Single Inheritance:\n",
    "# A class inherits from one base (parent) class.\n",
    "\n",
    "# 2.Multiple Inheritance:\n",
    "#A class inherits from more than one base class. It allows a child class to have multiple parent classes.\n",
    "\n",
    "# 3.Multilevel Inheritance:\n",
    "# A class inherits from a class, which in turn inherits from another class. This forms a chain of inheritance.\n",
    "\n",
    "# 4.Hierarchical Inheritance:\n",
    "# A Multiple derived classes inherit from the same base class.\n",
    "\n",
    "# 5.Hybrid Inheritance:\n",
    "# A combination of two or more types of inheritance. It often involves multiple and hierarchical inheritance.\n",
    "    \n",
    "# Example of multiple inheritence :\n",
    "class Father:\n",
    "    def speak(self):\n",
    "        print(\"Father speaks\")\n",
    "\n",
    "class Mother:\n",
    "    def sing(self):\n",
    "        print(\"Mother sings\")\n",
    "\n",
    "class Child(Father, Mother):  # Multiple inheritance\n",
    "    def play(self):\n",
    "        print(\"Child plays\")\n",
    "\n",
    "# Example usage\n",
    "child = Child()\n",
    "child.speak()  # Inherited from Father\n",
    "child.sing()   # Inherited from Mother\n",
    "child.play()   # Defined in Child\n",
    "\n"
   ]
  },
  {
   "cell_type": "code",
   "execution_count": null,
   "id": "701fece3-c7f2-4ac6-b635-9a8ca991028b",
   "metadata": {},
   "outputs": [],
   "source": [
    "# Q7.What is the Method Resolution Order (MRO) in Python? How can you retrieve it programmatically?\n",
    "\n",
    "# Method Resolution Order (MRO) in Python:\n",
    "# The Method Resolution Order (MRO) in Python defines the order in which methods are inherited when a class has multiple parent classes.\n",
    "# This is particularly important in the context of multiple inheritance, as it dictates the sequence in which Python searches for a method or attribute when called on an object.\n",
    "\n",
    "# we can retrieve the MRO of a class in two ways:\n",
    "# 1. Using the __mro__ attribute of the class.\n",
    "# 2.Using the mro() method."
   ]
  },
  {
   "cell_type": "code",
   "execution_count": 27,
   "id": "84a20309-5b0e-48a4-88a9-5b61b896114e",
   "metadata": {},
   "outputs": [
    {
     "name": "stdout",
     "output_type": "stream",
     "text": [
      "Circle area: 78.53981633974483\n",
      "Rectangle area: 24\n"
     ]
    }
   ],
   "source": [
    "# Q8. Create an abstract base class `Shape` with an abstract method `area()`. Then create two subclasses 'Circle` and `Rectangle` that implement the `area()` method.\n",
    "\n",
    "from abc import ABC, abstractmethod\n",
    "import math\n",
    "\n",
    "class Shape(ABC):\n",
    "    @abstractmethod\n",
    "    def area(self):\n",
    "        pass \n",
    "\n",
    "class Circle(Shape):\n",
    "    def __init__(self, radius):\n",
    "        self.radius = radius\n",
    "\n",
    "    def area(self):\n",
    "        return math.pi * self.radius ** 2  \n",
    "\n",
    "class Rectangle(Shape):\n",
    "    def __init__(self, width, height):\n",
    "        self.width = width\n",
    "        self.height = height\n",
    "\n",
    "    def area(self):\n",
    "        return self.width * self.height  \n",
    "\n",
    "circle = Circle(5)\n",
    "print(f\"Circle area: {circle.area()}\") \n",
    "\n",
    "rectangle = Rectangle(4, 6)\n",
    "print(f\"Rectangle area: {rectangle.area()}\")  \n"
   ]
  },
  {
   "cell_type": "code",
   "execution_count": 29,
   "id": "e02fe4c6-f106-412e-b920-15ab2d6b9392",
   "metadata": {},
   "outputs": [
    {
     "name": "stdout",
     "output_type": "stream",
     "text": [
      "Area: 78.53981633974483\n",
      "Area: 24\n"
     ]
    }
   ],
   "source": [
    "# Q9. Demonstrate polymorphism by creating a function that can work with different shape objects to calculateand print their areas.\n",
    "\n",
    "from abc import ABC, abstractmethod\n",
    "import math\n",
    "class Shape(ABC):\n",
    "    @abstractmethod\n",
    "    def area(self):\n",
    "        pass\n",
    "\n",
    "# Circle class\n",
    "class Circle(Shape):\n",
    "    def __init__(self, radius):\n",
    "        self.radius = radius\n",
    "\n",
    "    def area(self):\n",
    "        return math.pi * self.radius ** 2\n",
    "\n",
    "# Rectangle class\n",
    "class Rectangle(Shape):\n",
    "    def __init__(self, width, height):\n",
    "        self.width = width\n",
    "        self.height = height\n",
    "\n",
    "    def area(self):\n",
    "        return self.width * self.height\n",
    "\n",
    "def print_area(shape: Shape):\n",
    "    print(f\"Area: {shape.area()}\")\n",
    "\n",
    "\n",
    "circle = Circle(5)\n",
    "rectangle = Rectangle(4, 6)\n",
    "\n",
    "# Demonstrating polymorphism\n",
    "print_area(circle)    \n",
    "print_area(rectangle)   \n"
   ]
  },
  {
   "cell_type": "code",
   "execution_count": 31,
   "id": "d7768985-a4e8-4c5e-b8d3-b5926648d77d",
   "metadata": {},
   "outputs": [
    {
     "name": "stdout",
     "output_type": "stream",
     "text": [
      "Account Number: 123456789, Balance: $1000.00\n",
      "Deposited: $500.00. New balance: $1500.00\n",
      "Withdrew: $200.00. New balance: $1300.00\n",
      "Insufficient funds.\n",
      "Account Number: 123456789, Balance: $1300.00\n"
     ]
    }
   ],
   "source": [
    "# Q10. Implement encapsulation in a `BankAccount` class with private attributes for `balance` and`account_number`. Include methods for deposit, withdrawal, and balance inquiry\n",
    "\n",
    "class BankAccount:\n",
    "    def __init__(self, account_number, initial_balance=0):\n",
    "        self.__account_number = account_number \n",
    "        self.__balance = initial_balance  \n",
    "\n",
    "    def deposit(self, amount):\n",
    "        if amount > 0:\n",
    "            self.__balance += amount\n",
    "            print(f\"Deposited: ${amount:.2f}. New balance: ${self.__balance:.2f}\")\n",
    "        else:\n",
    "            print(\"Deposit amount must be positive.\")\n",
    "\n",
    "    def withdraw(self, amount):\n",
    "        if 0 < amount <= self.__balance:\n",
    "            self.__balance -= amount\n",
    "            print(f\"Withdrew: ${amount:.2f}. New balance: ${self.__balance:.2f}\")\n",
    "        elif amount > self.__balance:\n",
    "            print(\"Insufficient funds.\")\n",
    "        else:\n",
    "            print(\"Withdrawal amount must be positive.\")\n",
    "\n",
    "    def inquire_balance(self):\n",
    "        print(f\"Account Number: {self.__account_number}, Balance: ${self.__balance:.2f}\")\n",
    "        \n",
    "account = BankAccount(\"123456789\", 1000)\n",
    "account.inquire_balance()  \n",
    "account.deposit(500)        \n",
    "account.withdraw(200)       \n",
    "account.withdraw(1500)     \n",
    "account.inquire_balance()   \n"
   ]
  },
  {
   "cell_type": "code",
   "execution_count": 33,
   "id": "e886b55e-7960-4245-8b84-b471b42fdd33",
   "metadata": {},
   "outputs": [
    {
     "name": "stdout",
     "output_type": "stream",
     "text": [
      "Vector(2, 3)\n",
      "Vector(5, 7)\n",
      "Vector(7, 10)\n"
     ]
    }
   ],
   "source": [
    "# Q11. Write a class that overrides the `__str__` and `__add__` magic methods. What will these methods allow you to do?\n",
    "\n",
    "class Vector:\n",
    "    def __init__(self, x, y):\n",
    "        self.x = x\n",
    "        self.y = y\n",
    "\n",
    "    def __str__(self):\n",
    "        return f\"Vector({self.x}, {self.y})\"\n",
    "\n",
    "    def __add__(self, other):\n",
    "        if isinstance(other, Vector):\n",
    "            return Vector(self.x + other.x, self.y + other.y)\n",
    "        return NotImplemented  \n",
    "v1 = Vector(2, 3)\n",
    "v2 = Vector(5, 7)\n",
    "\n",
    "print(v1)       \n",
    "print(v2)       \n",
    "\n",
    "v3 = v1 + v2     \n",
    "print(v3)       \n"
   ]
  },
  {
   "cell_type": "code",
   "execution_count": 35,
   "id": "9a91f88f-ad89-4099-965b-615d3ead4348",
   "metadata": {},
   "outputs": [
    {
     "name": "stdout",
     "output_type": "stream",
     "text": [
      "Execution time of 'example_function': 0.089598 seconds\n",
      "Result: 499999500000\n"
     ]
    }
   ],
   "source": [
    "# Q12. Create a decorator that measures and prints the execution time of a function.\n",
    "\n",
    "import time\n",
    "\n",
    "def timer_decorator(func):\n",
    "    def wrapper(*args, **kwargs):\n",
    "        start_time = time.time() \n",
    "        result = func(*args, **kwargs)\n",
    "        end_time = time.time()\n",
    "        execution_time = end_time - start_time  \n",
    "        print(f\"Execution time of '{func.__name__}': {execution_time:.6f} seconds\")\n",
    "        return result\n",
    "    return wrapper\n",
    "@timer_decorator\n",
    "def example_function(n):\n",
    "    total = 0\n",
    "    for i in range(n):\n",
    "        total += i\n",
    "    return total\n",
    "\n",
    "result = example_function(1000000)\n",
    "print(f\"Result: {result}\")\n"
   ]
  },
  {
   "cell_type": "code",
   "execution_count": 39,
   "id": "bbdcb2de-a180-450d-a303-dce0040e4c86",
   "metadata": {},
   "outputs": [],
   "source": [
    "# Q13. Explain the concept of the Diamond Problem in multiple inheritance. How does Python resolve it?\n",
    "\n",
    "# The Diamond Problem occurs in multiple inheritance scenarios when a class inherits from two classes that both inherit from a common base class. \n",
    "# This can lead to ambiguity about which method or attribute should be called from the base class.\n",
    "\n",
    "# Python Resolves the Diamond Problem:\n",
    "#Python uses the C3 linearization algorithm (also known as C3 superclass linearization) to resolve the diamond problem. \n",
    "# This method creates a consistent linear order for the classes to determine the method resolution order (MRO).\n",
    "\n",
    "# Key Features of Python's Approach:\n",
    "# 1.Left-to-Right Resolution: The order in which classes are defined (left to right) is considered.\n",
    "# 2.Preservation of Parent Order: The method resolution order respects the order of the parent classes.\n",
    "# 3.Single Path: It ensures that each class appears only once in the MRO, avoiding repeated checks and potential conflicts.\n",
    "\n",
    "\n",
    "\n",
    " "
   ]
  },
  {
   "cell_type": "code",
   "execution_count": 41,
   "id": "3f874a37-9973-4b0c-8249-bbce69bf6555",
   "metadata": {},
   "outputs": [
    {
     "name": "stdout",
     "output_type": "stream",
     "text": [
      "3\n"
     ]
    }
   ],
   "source": [
    "# Q14. Write a class method that keeps track of the number of instances created from a class\n",
    "\n",
    "class InstanceCounter:\n",
    "    instance_count = 0 \n",
    "\n",
    "    def __init__(self):\n",
    "        InstanceCounter.instance_count += 1  \n",
    "\n",
    "    @classmethod\n",
    "    def get_instance_count(cls):\n",
    "        return cls.instance_count  \n",
    "\n",
    "# Example usage\n",
    "obj1 = InstanceCounter()\n",
    "obj2 = InstanceCounter()\n",
    "obj3 = InstanceCounter()\n",
    "\n",
    "print(InstanceCounter.get_instance_count())  \n"
   ]
  },
  {
   "cell_type": "code",
   "execution_count": 43,
   "id": "d22a3d25-fad8-40da-a74f-20425698bcc8",
   "metadata": {},
   "outputs": [
    {
     "name": "stdout",
     "output_type": "stream",
     "text": [
      "2024 is a leap year.\n",
      "1900 is not a leap year.\n"
     ]
    }
   ],
   "source": [
    "# Q15. Implement a static method in a class that checks if a given year is a leap year.\n",
    "\n",
    "class YearUtils:\n",
    "    @staticmethod\n",
    "    def is_leap_year(year):\n",
    "      \n",
    "        if (year % 4 == 0 and year % 100 != 0) or (year % 400 == 0):\n",
    "            return True\n",
    "        return False\n",
    "\n",
    "\n",
    "year_to_check = 2024\n",
    "if YearUtils.is_leap_year(year_to_check):\n",
    "    print(f\"{year_to_check} is a leap year.\")\n",
    "else:\n",
    "    print(f\"{year_to_check} is not a leap year.\")\n",
    "\n",
    "year_to_check = 1900\n",
    "if YearUtils.is_leap_year(year_to_check):\n",
    "    print(f\"{year_to_check} is a leap year.\")\n",
    "else:\n",
    "    print(f\"{year_to_check} is not a leap year.\")\n"
   ]
  },
  {
   "cell_type": "code",
   "execution_count": null,
   "id": "4997848a-5f8c-47df-93b3-b755e67cef4b",
   "metadata": {},
   "outputs": [],
   "source": []
  }
 ],
 "metadata": {
  "kernelspec": {
   "display_name": "Python 3 (ipykernel)",
   "language": "python",
   "name": "python3"
  },
  "language_info": {
   "codemirror_mode": {
    "name": "ipython",
    "version": 3
   },
   "file_extension": ".py",
   "mimetype": "text/x-python",
   "name": "python",
   "nbconvert_exporter": "python",
   "pygments_lexer": "ipython3",
   "version": "3.12.4"
  }
 },
 "nbformat": 4,
 "nbformat_minor": 5
}
